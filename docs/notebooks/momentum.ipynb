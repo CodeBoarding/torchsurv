{
 "cells": [
  {
   "cell_type": "markdown",
   "id": "9c99b800-422a-4631-9b0f-192eefab4c6d",
   "metadata": {},
   "source": [
    "# Momentum survival: MNIST use case\n",
    "\n",
    "In this example, we will use the pytorch lightning framework to further show how easy is it to use `torchsurv`"
   ]
  },
  {
   "cell_type": "code",
   "execution_count": 1,
   "id": "eac2861e-9c15-4ab6-85b0-f8120a07119f",
   "metadata": {},
   "outputs": [],
   "source": [
    "import torch\n",
    "import pytorch_lightning as L\n",
    "from torchvision.models import resnet18\n",
    "from torchvision.transforms import v2\n",
    "\n",
    "from torchsurv.loss.cox import neg_partial_log_likelihood\n",
    "from torchsurv.loss.momentum import Momentum"
   ]
  },
  {
   "cell_type": "code",
   "execution_count": 2,
   "id": "85c14ecf-33f2-4b48-bc94-db582e02bc8f",
   "metadata": {},
   "outputs": [],
   "source": [
    "# For simplicity (or laziness), we already implemented the datamodule for MNIST. See code for details\n",
    "from helpers_momentum import MNISTDataModule, LitMomentum, LitMNIST"
   ]
  },
  {
   "cell_type": "code",
   "execution_count": 3,
   "id": "307fea5f-9a28-4258-90ea-05c3793d5a59",
   "metadata": {},
   "outputs": [],
   "source": [
    "import warnings\n",
    "warnings.filterwarnings('ignore')"
   ]
  },
  {
   "cell_type": "code",
   "execution_count": 4,
   "id": "794004c5-588c-4590-ae96-c6d9e52109ff",
   "metadata": {},
   "outputs": [],
   "source": [
    "BATCH_SIZE = 256"
   ]
  },
  {
   "cell_type": "markdown",
   "id": "75d28cbc-89df-428f-bb6a-a313696ebddf",
   "metadata": {},
   "source": [
    "## Model backbone\n",
    "\n",
    "First we need to define out model backbone. We will use here the resnet18."
   ]
  },
  {
   "cell_type": "code",
   "execution_count": 5,
   "id": "c216fa33-de09-4be2-82cc-83cb73db3a42",
   "metadata": {},
   "outputs": [],
   "source": [
    "resnet = resnet18(weights=None)\n",
    "# Fit grayscale images\n",
    "resnet.conv1 = torch.nn.Conv2d(1, 64, kernel_size=(7, 7), stride=(2, 2), padding=(3, 3), bias=False)\n",
    "# Output log hazards\n",
    "resnet.fc = torch.nn.Linear(in_features=resnet.fc.in_features, out_features=1)"
   ]
  },
  {
   "cell_type": "code",
   "execution_count": 6,
   "id": "8056a675-fbce-4f4b-86c0-ab7dd924e4b1",
   "metadata": {},
   "outputs": [
    {
     "name": "stdout",
     "output_type": "stream",
     "text": [
      "torch.Size([6, 1, 224, 224])\n",
      "torch.Size([6, 1])\n"
     ]
    }
   ],
   "source": [
    "# Transforms our images\n",
    "transforms =v2.Compose([v2.ToImage(), v2.ToDtype(torch.float32, scale=True), v2.Resize(224, antialias=True), v2.Normalize(mean=(0,), std=(1,))])\n",
    "\n",
    "# Sanity check\n",
    "x = torch.randn((6, 1, 28, 28))\n",
    "print(f'{transforms(x).shape}')\n",
    "print(f'{resnet(transforms(x)).shape}')"
   ]
  },
  {
   "cell_type": "markdown",
   "id": "0948492c-3e2a-405e-b239-cbb4483b50b8",
   "metadata": {},
   "source": [
    "## Regular training"
   ]
  },
  {
   "cell_type": "code",
   "execution_count": 7,
   "id": "1e7a2c7e-a1ef-42fa-ba74-1d33a1dcf2f3",
   "metadata": {},
   "outputs": [],
   "source": [
    "model_regular = LitMNIST(resnet)\n"
   ]
  },
  {
   "cell_type": "code",
   "execution_count": 8,
   "id": "5c579509-3b71-4229-a916-6191eb572af7",
   "metadata": {},
   "outputs": [],
   "source": [
    "# Define experiment\n",
    "datamodule = MNISTDataModule(batch_size=BATCH_SIZE, transforms=transforms)"
   ]
  },
  {
   "cell_type": "code",
   "execution_count": 9,
   "id": "3f577acf-a821-41a4-8544-318617755d1e",
   "metadata": {},
   "outputs": [
    {
     "name": "stderr",
     "output_type": "stream",
     "text": [
      "GPU available: True (mps), used: True\n",
      "TPU available: False, using: 0 TPU cores\n",
      "IPU available: False, using: 0 IPUs\n",
      "HPU available: False, using: 0 HPUs\n",
      "Running in `fast_dev_run` mode: will run the requested loop using 5 batch(es). Logging and checkpointing is suppressed.\n"
     ]
    }
   ],
   "source": [
    "# Define trainer\n",
    "trainer = L.Trainer(\n",
    "    accelerator=\"auto\",\n",
    "    logger=False,\n",
    "    enable_checkpointing=False,\n",
    "    fast_dev_run=5,  # Quick dev, \n",
    ")"
   ]
  },
  {
   "cell_type": "code",
   "execution_count": 10,
   "id": "430079cc-4fad-4da2-8ea5-aa904c41ec0e",
   "metadata": {},
   "outputs": [
    {
     "name": "stderr",
     "output_type": "stream",
     "text": [
      "\n",
      "  | Name  | Type   | Params\n",
      "---------------------------------\n",
      "0 | model | ResNet | 11.2 M\n",
      "---------------------------------\n",
      "11.2 M    Trainable params\n",
      "0         Non-trainable params\n",
      "11.2 M    Total params\n",
      "44.683    Total estimated model params size (MB)\n"
     ]
    },
    {
     "data": {
      "application/vnd.jupyter.widget-view+json": {
       "model_id": "c50d667ea0d341409feb4e4f0e98157a",
       "version_major": 2,
       "version_minor": 0
      },
      "text/plain": [
       "Training: |                                                                      | 0/? [00:00<?, ?it/s]"
      ]
     },
     "metadata": {},
     "output_type": "display_data"
    },
    {
     "data": {
      "application/vnd.jupyter.widget-view+json": {
       "model_id": "",
       "version_major": 2,
       "version_minor": 0
      },
      "text/plain": [
       "Validation: |                                                                    | 0/? [00:00<?, ?it/s]"
      ]
     },
     "metadata": {},
     "output_type": "display_data"
    },
    {
     "name": "stderr",
     "output_type": "stream",
     "text": [
      "`Trainer.fit` stopped: `max_steps=5` reached.\n"
     ]
    }
   ],
   "source": [
    "# Fit the model\n",
    "trainer.fit(model_regular, datamodule)"
   ]
  },
  {
   "cell_type": "code",
   "execution_count": 11,
   "id": "3841779a-1ef0-480a-8dd4-7eb089e49473",
   "metadata": {},
   "outputs": [
    {
     "data": {
      "application/vnd.jupyter.widget-view+json": {
       "model_id": "190b9fb82a854a47a70dda99093d4d18",
       "version_major": 2,
       "version_minor": 0
      },
      "text/plain": [
       "Validation: |                                                                    | 0/? [00:00<?, ?it/s]"
      ]
     },
     "metadata": {},
     "output_type": "display_data"
    },
    {
     "name": "stdout",
     "output_type": "stream",
     "text": [
      "────────────────────────────────────────────────────────────────────────────────────────────────────────────────────────\n",
      "     Validate metric           DataLoader 0\n",
      "────────────────────────────────────────────────────────────────────────────────────────────────────────────────────────\n",
      "      cindex_epoch           0.603299081325531\n",
      "     val_loss_epoch         -68.12861633300781\n",
      "────────────────────────────────────────────────────────────────────────────────────────────────────────────────────────\n"
     ]
    },
    {
     "data": {
      "text/plain": [
       "[{'val_loss_epoch': -68.12861633300781, 'cindex_epoch': 0.603299081325531}]"
      ]
     },
     "execution_count": 11,
     "metadata": {},
     "output_type": "execute_result"
    }
   ],
   "source": [
    "# Validate the model\n",
    "trainer.validate(model_regular, datamodule)"
   ]
  },
  {
   "cell_type": "code",
   "execution_count": 12,
   "id": "7854deb3-52f8-4a92-b38f-ff304bf82a34",
   "metadata": {},
   "outputs": [
    {
     "data": {
      "application/vnd.jupyter.widget-view+json": {
       "model_id": "10283593047542ea846ad510cf3a1125",
       "version_major": 2,
       "version_minor": 0
      },
      "text/plain": [
       "Testing: |                                                                       | 0/? [00:00<?, ?it/s]"
      ]
     },
     "metadata": {},
     "output_type": "display_data"
    },
    {
     "name": "stdout",
     "output_type": "stream",
     "text": [
      "────────────────────────────────────────────────────────────────────────────────────────────────────────────────────────\n",
      "       Test metric             DataLoader 0\n",
      "────────────────────────────────────────────────────────────────────────────────────────────────────────────────────────\n",
      "      cindex_epoch          0.6242874264717102\n",
      "     val_loss_epoch         -70.14149475097656\n",
      "────────────────────────────────────────────────────────────────────────────────────────────────────────────────────────\n"
     ]
    },
    {
     "data": {
      "text/plain": [
       "[{'val_loss_epoch': -70.14149475097656, 'cindex_epoch': 0.6242874264717102}]"
      ]
     },
     "execution_count": 12,
     "metadata": {},
     "output_type": "execute_result"
    }
   ],
   "source": [
    "# Test the model\n",
    "trainer.test(model_regular, datamodule)"
   ]
  },
  {
   "cell_type": "markdown",
   "id": "8d4efafc-e731-423c-8d1d-5b5fabf573da",
   "metadata": {},
   "source": [
    "# Momentum\n",
    "\n",
    "By decreasing our batch by `factor_n`, and matching this factor in the `Momentum(n=X)`, we should in theory mimic the same training information while having a much smaller batch size. This is ideal for large dataset, such as medical images:"
   ]
  },
  {
   "cell_type": "code",
   "execution_count": 13,
   "id": "bab50a3f-5670-4264-b2c0-4eccb5f48624",
   "metadata": {},
   "outputs": [],
   "source": [
    "factor = 10\n",
    "model_momentum = LitMomentum(backbone=Momentum(resnet, neg_partial_log_likelihood, n = factor, m=0.999))\n",
    "# Define experiment\n",
    "datamodule_momentum = MNISTDataModule(batch_size= BATCH_SIZE // factor , transforms=transforms)"
   ]
  },
  {
   "cell_type": "code",
   "execution_count": 14,
   "id": "00473ec0-9f44-47f2-824d-02dcc92dba7d",
   "metadata": {},
   "outputs": [
    {
     "name": "stderr",
     "output_type": "stream",
     "text": [
      "\n",
      "  | Name  | Type     | Params\n",
      "-----------------------------------\n",
      "0 | model | Momentum | 22.3 M\n",
      "-----------------------------------\n",
      "11.2 M    Trainable params\n",
      "11.2 M    Non-trainable params\n",
      "22.3 M    Total params\n",
      "89.366    Total estimated model params size (MB)\n",
      "`Trainer.fit` stopped: `max_steps=5` reached.\n"
     ]
    }
   ],
   "source": [
    "# Fit the model\n",
    "trainer.fit(model_momentum, datamodule_momentum)"
   ]
  },
  {
   "cell_type": "code",
   "execution_count": 15,
   "id": "1eb34b82-7b6c-434a-af0c-51fc33cb6d6f",
   "metadata": {},
   "outputs": [
    {
     "data": {
      "application/vnd.jupyter.widget-view+json": {
       "model_id": "5bf3d6cbdc7c4ec7b877ae5a1b68afc6",
       "version_major": 2,
       "version_minor": 0
      },
      "text/plain": [
       "Validation: |                                                                    | 0/? [00:00<?, ?it/s]"
      ]
     },
     "metadata": {},
     "output_type": "display_data"
    },
    {
     "name": "stdout",
     "output_type": "stream",
     "text": [
      "────────────────────────────────────────────────────────────────────────────────────────────────────────────────────────\n",
      "     Validate metric           DataLoader 0\n",
      "────────────────────────────────────────────────────────────────────────────────────────────────────────────────────────\n",
      "      cindex_epoch           0.658102810382843\n",
      "     val_loss_epoch         21.859458923339844\n",
      "────────────────────────────────────────────────────────────────────────────────────────────────────────────────────────\n"
     ]
    },
    {
     "data": {
      "text/plain": [
       "[{'val_loss_epoch': 21.859458923339844, 'cindex_epoch': 0.658102810382843}]"
      ]
     },
     "execution_count": 15,
     "metadata": {},
     "output_type": "execute_result"
    }
   ],
   "source": [
    "# Validate the model\n",
    "trainer.validate(model_momentum, datamodule_momentum)"
   ]
  },
  {
   "cell_type": "code",
   "execution_count": 16,
   "id": "6441c1ea-b87f-4ff7-92dd-a8d7abf8daa5",
   "metadata": {},
   "outputs": [
    {
     "data": {
      "application/vnd.jupyter.widget-view+json": {
       "model_id": "aeb0cbd96d044f699fe1295088528b95",
       "version_major": 2,
       "version_minor": 0
      },
      "text/plain": [
       "Testing: |                                                                       | 0/? [00:00<?, ?it/s]"
      ]
     },
     "metadata": {},
     "output_type": "display_data"
    },
    {
     "name": "stdout",
     "output_type": "stream",
     "text": [
      "────────────────────────────────────────────────────────────────────────────────────────────────────────────────────────\n",
      "       Test metric             DataLoader 0\n",
      "────────────────────────────────────────────────────────────────────────────────────────────────────────────────────────\n",
      "      cindex_epoch          0.6049648523330688\n",
      "     val_loss_epoch          62.4331169128418\n",
      "────────────────────────────────────────────────────────────────────────────────────────────────────────────────────────\n"
     ]
    },
    {
     "data": {
      "text/plain": [
       "[{'val_loss_epoch': 62.4331169128418, 'cindex_epoch': 0.6049648523330688}]"
      ]
     },
     "execution_count": 16,
     "metadata": {},
     "output_type": "execute_result"
    }
   ],
   "source": [
    "# Validate the model\n",
    "trainer.test(model_momentum, datamodule_momentum)"
   ]
  }
 ],
 "metadata": {
  "kernelspec": {
   "display_name": "Python 3 (ipykernel)",
   "language": "python",
   "name": "python3"
  },
  "language_info": {
   "codemirror_mode": {
    "name": "ipython",
    "version": 3
   },
   "file_extension": ".py",
   "mimetype": "text/x-python",
   "name": "python",
   "nbconvert_exporter": "python",
   "pygments_lexer": "ipython3",
   "version": "3.10.13"
  }
 },
 "nbformat": 4,
 "nbformat_minor": 5
}
